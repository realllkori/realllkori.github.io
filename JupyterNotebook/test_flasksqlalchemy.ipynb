{
 "cells": [
  {
   "cell_type": "code",
   "execution_count": 10,
   "metadata": {},
   "outputs": [],
   "source": [
    "from product_model import *"
   ]
  },
  {
   "cell_type": "code",
   "execution_count": 3,
   "metadata": {
    "scrolled": true
   },
   "outputs": [
    {
     "name": "stdout",
     "output_type": "stream",
     "text": [
      "(1001, 'PEN', 'Pen Red', 5000, Decimal('1.23'), 501)\n",
      "(1002, 'PEN', 'Pen Blue', 8000, Decimal('1.25'), 503)\n",
      "(1003, 'SAT', 'Pen God', 2000, Decimal('1.25'), 501)\n",
      "(1004, 'XYZ', 'Pen Pen', 10000, Decimal('9.75'), 501)\n",
      "(1006, 'PEC', 'Pencil HB', 222, Decimal('123.23'), 501)\n",
      "(1007, 'PEN', 'Pen Red', 5000, Decimal('1.23'), 501)\n",
      "(1008, 'PEN', 'Pen Blue', 8000, Decimal('1.25'), 501)\n",
      "(1009, 'PEN', 'Pen Black', 2000, Decimal('1.25'), 501)\n",
      "(1010, 'PEC', 'Pencil 2B', 10000, Decimal('0.48'), 501)\n",
      "(1011, 'PEC', 'Pencil 2H', 8000, Decimal('0.49'), 502)\n",
      "(1012, 'PEC', 'Pencil HB', 0, Decimal('99999.99'), 501)\n",
      "(1013, 'PEN', 'Pen Red', 5000, Decimal('1.23'), 501)\n",
      "(1015, 'PEN', 'Green 2B', 20, Decimal('2.50'), 502)\n",
      "(1016, 'PEC', 'Green 2B', 43, Decimal('3.50'), 501)\n",
      "(2001, 'PEC', 'Pencil 3B', 500, Decimal('0.52'), 503)\n",
      "(2002, 'PEC', 'Pencil 4B', 200, Decimal('0.62'), 501)\n",
      "(2003, 'PEN', 'Pencil 5B', 100, Decimal('0.73'), 503)\n",
      "(2004, 'PEC', 'Pencil 6B', 500, Decimal('0.47'), 502)\n",
      "(2005, 'PEC', 'Pencil 3B', 500, Decimal('0.52'), 503)\n",
      "(2006, 'PEC', 'Pencil 4B', 200, Decimal('0.62'), 501)\n",
      "(2007, 'PEN', 'Pencil 5B', 100, Decimal('0.73'), 503)\n",
      "(2008, 'PEN', 'Pencil 6B', 500, Decimal('0.47'), 502)\n",
      "(2009, 'PEC', 'Pencil 3B', 500, Decimal('0.52'), 503)\n",
      "(2010, 'PEC', 'Pencil 4B', 200, Decimal('0.62'), 501)\n",
      "(2011, 'PEC', 'Pencil 5B', 100, Decimal('0.73'), 503)\n",
      "(2012, 'PEC', 'Pencil 6B', 500, Decimal('0.47'), 502)\n",
      "(2013, 'PEC', 'Pencil 3B', 500, Decimal('0.52'), 503)\n",
      "(2014, 'PEG', 'Pencil 4B', 200, Decimal('1.20'), 502)\n",
      "(2015, 'PEG', 'Pencil 5B', 100, Decimal('0.55'), 501)\n",
      "(2016, 'PEC', 'Pencil 4B', 200, Decimal('0.62'), 501)\n",
      "(2017, 'PEC', 'Pencil 5B', 100, Decimal('0.73'), 503)\n",
      "(2018, 'PEC', 'Pencil 6B', 500, Decimal('0.47'), 502)\n",
      "(2019, 'PEC', 'Pencil 3B', 500, Decimal('0.52'), 503)\n",
      "(2020, 'PEG', 'Pencil 4B', 200, Decimal('1.20'), 502)\n",
      "(2021, 'PEG', 'Pencil 5B', 100, Decimal('0.55'), 501)\n",
      "(2022, 'PEC', 'Pencil 4B', 200, Decimal('0.62'), 501)\n",
      "(2023, 'PEC', 'Pencil 5B', 100, Decimal('0.73'), 503)\n",
      "(2024, 'PEC', 'Pencil 6B', 500, Decimal('0.47'), 502)\n",
      "(2025, 'PEC', 'Pencil 3B', 500, Decimal('0.52'), 503)\n",
      "(2026, 'PEG', 'Pencil 4B', 200, Decimal('1.20'), 502)\n",
      "(2027, 'PEG', 'Pencil 5B', 100, Decimal('0.55'), 501)\n",
      "(2028, 'PEC', 'Pencil 4B', 200, Decimal('0.62'), 501)\n",
      "(2029, 'PEC', 'Pencil 5B', 100, Decimal('0.73'), 503)\n",
      "(2030, 'PEC', 'Pencil 6B', 500, Decimal('0.47'), 502)\n",
      "(2031, 'PEC', 'Pencil 3B', 500, Decimal('0.52'), 503)\n",
      "(2032, 'PEG', 'Pencil 4B', 200, Decimal('1.20'), 502)\n",
      "(2033, 'PEG', 'Pencil 5B', 100, Decimal('0.55'), 501)\n",
      "(2034, 'PEC', 'Pencil 4B', 200, Decimal('0.62'), 501)\n",
      "(2035, 'PEC', 'Pencil 5B', 100, Decimal('0.73'), 503)\n",
      "(2045, 'SUN', 'Parker', 5, Decimal('999.00'), 502)\n"
     ]
    }
   ],
   "source": [
    "result = db.engine.execute('select * from products')\n",
    "for i in result:\n",
    "    print(i)\n"
   ]
  },
  {
   "cell_type": "code",
   "execution_count": 11,
   "metadata": {},
   "outputs": [
    {
     "name": "stdout",
     "output_type": "stream",
     "text": [
      "[{'productID': 1001, 'productCode': 'PEN', 'name': 'Pen Red', 'quantity': 5000, 'price': Decimal('1.23'), 'supplierID': 501}, {'productID': 1002, 'productCode': 'PEN', 'name': 'Pen Blue', 'quantity': 8000, 'price': Decimal('1.25'), 'supplierID': 503}, {'productID': 1003, 'productCode': 'SAT', 'name': 'Pen God', 'quantity': 2000, 'price': Decimal('1.25'), 'supplierID': 501}, {'productID': 1004, 'productCode': 'ABC', 'name': 'Parker Pe', 'quantity': 10000, 'price': Decimal('9.75'), 'supplierID': 501}, {'productID': 1006, 'productCode': 'PEC', 'name': 'Pencil HB', 'quantity': 222, 'price': Decimal('123.23'), 'supplierID': 501}, {'productID': 1007, 'productCode': 'PEN', 'name': 'Pen Red', 'quantity': 5000, 'price': Decimal('1.23'), 'supplierID': 501}, {'productID': 1008, 'productCode': 'PEN', 'name': 'Pen Blue', 'quantity': 8000, 'price': Decimal('1.25'), 'supplierID': 501}, {'productID': 1009, 'productCode': 'PEN', 'name': 'Pen Black', 'quantity': 2000, 'price': Decimal('1.25'), 'supplierID': 501}, {'productID': 1010, 'productCode': 'PEC', 'name': 'Pencil 2B', 'quantity': 10000, 'price': Decimal('0.48'), 'supplierID': 501}, {'productID': 1011, 'productCode': 'PEC', 'name': 'Pencil 2H', 'quantity': 8000, 'price': Decimal('0.49'), 'supplierID': 502}, {'productID': 1012, 'productCode': 'PEC', 'name': 'Pencil HB', 'quantity': 0, 'price': Decimal('99999.99'), 'supplierID': 501}, {'productID': 1013, 'productCode': 'PEN', 'name': 'Pen Red', 'quantity': 5000, 'price': Decimal('1.23'), 'supplierID': 501}, {'productID': 1015, 'productCode': 'PEN', 'name': 'Green 2B', 'quantity': 20, 'price': Decimal('2.50'), 'supplierID': 502}, {'productID': 1016, 'productCode': 'PEC', 'name': 'Green 2B', 'quantity': 43, 'price': Decimal('3.50'), 'supplierID': 501}, {'productID': 2001, 'productCode': 'PEC', 'name': 'Pencil 3B', 'quantity': 500, 'price': Decimal('0.52'), 'supplierID': 503}, {'productID': 2002, 'productCode': 'PEC', 'name': 'Pencil 4B', 'quantity': 200, 'price': Decimal('0.62'), 'supplierID': 501}, {'productID': 2003, 'productCode': 'PEN', 'name': 'Pencil 5B', 'quantity': 100, 'price': Decimal('0.73'), 'supplierID': 503}, {'productID': 2004, 'productCode': 'PEC', 'name': 'Pencil 6B', 'quantity': 500, 'price': Decimal('0.47'), 'supplierID': 502}, {'productID': 2005, 'productCode': 'PEC', 'name': 'Pencil 3B', 'quantity': 500, 'price': Decimal('0.52'), 'supplierID': 503}, {'productID': 2006, 'productCode': 'PEC', 'name': 'Pencil 4B', 'quantity': 200, 'price': Decimal('0.62'), 'supplierID': 501}, {'productID': 2007, 'productCode': 'PEN', 'name': 'Pencil 5B', 'quantity': 100, 'price': Decimal('0.73'), 'supplierID': 503}, {'productID': 2008, 'productCode': 'PEN', 'name': 'Pencil 6B', 'quantity': 500, 'price': Decimal('0.47'), 'supplierID': 502}, {'productID': 2009, 'productCode': 'PEC', 'name': 'Pencil 3B', 'quantity': 500, 'price': Decimal('0.52'), 'supplierID': 503}, {'productID': 2010, 'productCode': 'PEC', 'name': 'Pencil 4B', 'quantity': 200, 'price': Decimal('0.62'), 'supplierID': 501}, {'productID': 2011, 'productCode': 'PEC', 'name': 'Pencil 5B', 'quantity': 100, 'price': Decimal('0.73'), 'supplierID': 503}, {'productID': 2012, 'productCode': 'PEC', 'name': 'Pencil 6B', 'quantity': 500, 'price': Decimal('0.47'), 'supplierID': 502}, {'productID': 2013, 'productCode': 'PEC', 'name': 'Pencil 3B', 'quantity': 500, 'price': Decimal('0.52'), 'supplierID': 503}, {'productID': 2014, 'productCode': 'PEG', 'name': 'Pencil 4B', 'quantity': 200, 'price': Decimal('1.20'), 'supplierID': 502}, {'productID': 2015, 'productCode': 'PEG', 'name': 'Pencil 5B', 'quantity': 100, 'price': Decimal('0.55'), 'supplierID': 501}, {'productID': 2016, 'productCode': 'PEC', 'name': 'Pencil 4B', 'quantity': 200, 'price': Decimal('0.62'), 'supplierID': 501}, {'productID': 2017, 'productCode': 'PEC', 'name': 'Pencil 5B', 'quantity': 100, 'price': Decimal('0.73'), 'supplierID': 503}, {'productID': 2018, 'productCode': 'PEC', 'name': 'Pencil 6B', 'quantity': 500, 'price': Decimal('0.47'), 'supplierID': 502}, {'productID': 2019, 'productCode': 'PEC', 'name': 'Pencil 3B', 'quantity': 500, 'price': Decimal('0.52'), 'supplierID': 503}, {'productID': 2020, 'productCode': 'PEG', 'name': 'Pencil 4B', 'quantity': 200, 'price': Decimal('1.20'), 'supplierID': 502}, {'productID': 2021, 'productCode': 'PEG', 'name': 'Pencil 5B', 'quantity': 100, 'price': Decimal('0.55'), 'supplierID': 501}, {'productID': 2022, 'productCode': 'PEC', 'name': 'Pencil 4B', 'quantity': 200, 'price': Decimal('0.62'), 'supplierID': 501}, {'productID': 2023, 'productCode': 'PEC', 'name': 'Pencil 5B', 'quantity': 100, 'price': Decimal('0.73'), 'supplierID': 503}, {'productID': 2024, 'productCode': 'PEC', 'name': 'Pencil 6B', 'quantity': 500, 'price': Decimal('0.47'), 'supplierID': 502}, {'productID': 2025, 'productCode': 'PEC', 'name': 'Pencil 3B', 'quantity': 500, 'price': Decimal('0.52'), 'supplierID': 503}, {'productID': 2026, 'productCode': 'PEG', 'name': 'Pencil 4B', 'quantity': 200, 'price': Decimal('1.20'), 'supplierID': 502}, {'productID': 2027, 'productCode': 'PEG', 'name': 'Pencil 5B', 'quantity': 100, 'price': Decimal('0.55'), 'supplierID': 501}, {'productID': 2028, 'productCode': 'PEC', 'name': 'Pencil 4B', 'quantity': 200, 'price': Decimal('0.62'), 'supplierID': 501}, {'productID': 2029, 'productCode': 'PEC', 'name': 'Pencil 5B', 'quantity': 100, 'price': Decimal('0.73'), 'supplierID': 503}, {'productID': 2030, 'productCode': 'PEC', 'name': 'Pencil 6B', 'quantity': 500, 'price': Decimal('0.47'), 'supplierID': 502}, {'productID': 2031, 'productCode': 'PEC', 'name': 'Pencil 3B', 'quantity': 500, 'price': Decimal('0.52'), 'supplierID': 503}, {'productID': 2032, 'productCode': 'PEG', 'name': 'Pencil 4B', 'quantity': 200, 'price': Decimal('1.20'), 'supplierID': 502}, {'productID': 2033, 'productCode': 'PEG', 'name': 'Pencil 5B', 'quantity': 100, 'price': Decimal('0.55'), 'supplierID': 501}, {'productID': 2034, 'productCode': 'PEC', 'name': 'Pencil 4B', 'quantity': 200, 'price': Decimal('0.62'), 'supplierID': 501}, {'productID': 2035, 'productCode': 'PEC', 'name': 'Pencil 5B', 'quantity': 100, 'price': Decimal('0.73'), 'supplierID': 503}, {'productID': 2045, 'productCode': 'SUN', 'name': 'Parker', 'quantity': 5, 'price': Decimal('999.00'), 'supplierID': 502}, {'productID': 2047, 'productCode': 'EGG', 'name': 'Bernard', 'quantity': 100, 'price': Decimal('1.50'), 'supplierID': 502}]\n"
     ]
    }
   ],
   "source": [
    "result = db.engine.execute('select * from products')\n",
    "final_result = [list(i) for i in result]\n",
    "dataset=[]\n",
    "dict={}\n",
    "for i in final_result:\n",
    "    dict['productID'] = i[0]\n",
    "    dict['productCode'] = i[1]\n",
    "    dict['name'] = i[2]\n",
    "    dict['quantity'] = i[3]\n",
    "    dict['price'] = i[4]\n",
    "    dict['supplierID'] = i[5]\n",
    "    # print(i)\n",
    "    # print(dict)\n",
    "    dataset.append(dict.copy()) #markers.append(fld.copy())\n",
    "print(dataset)"
   ]
  },
  {
   "cell_type": "code",
   "execution_count": 8,
   "metadata": {},
   "outputs": [],
   "source": [
    "# Update Example\n",
    "pid = 1004 \n",
    "products = Products.query.filter_by(productID=pid).first()\n",
    "products.name = \"Parker Pen\"\n",
    "db.session.commit()"
   ]
  },
  {
   "cell_type": "code",
   "execution_count": 13,
   "metadata": {},
   "outputs": [],
   "source": [
    "# Insert Example\n",
    "product = Products(productCode='ABC',name=\"Bernard\",quantity=100,price=1.5,supplierID=502)\n",
    "db.session.add(product)\n",
    "db.session.commit()"
   ]
  },
  {
   "cell_type": "code",
   "execution_count": 14,
   "metadata": {},
   "outputs": [],
   "source": [
    "# Delete Example\n",
    "pid = 2049\n",
    "product = Products.query.filter_by(productID=pid).first()\n",
    "db.session.delete(product)\n",
    "db.session.commit()"
   ]
  },
  {
   "cell_type": "code",
   "execution_count": null,
   "metadata": {},
   "outputs": [],
   "source": []
  }
 ],
 "metadata": {
  "kernelspec": {
   "display_name": "Python 3",
   "language": "python",
   "name": "python3"
  },
  "language_info": {
   "codemirror_mode": {
    "name": "ipython",
    "version": 3
   },
   "file_extension": ".py",
   "mimetype": "text/x-python",
   "name": "python",
   "nbconvert_exporter": "python",
   "pygments_lexer": "ipython3",
   "version": "3.7.4"
  }
 },
 "nbformat": 4,
 "nbformat_minor": 2
}
